{
 "cells": [
  {
   "cell_type": "code",
   "execution_count": 133,
   "id": "7478d3ec-c744-4877-b7b9-e2cf66e9e232",
   "metadata": {},
   "outputs": [],
   "source": [
    "import json\n",
    "import pandas as pd\n",
    "import numpy as np\n",
    "import seaborn as sns\n",
    "from scipy import stats\n",
    "import matplotlib.pyplot as plt\n",
    "\n",
    "import pymysql\n",
    "pymysql.install_as_MySQLdb()\n",
    "\n",
    "from sqlalchemy import create_engine\n",
    "\n",
    "from urllib.parse import quote_plus as urlquote\n",
    "from sqlalchemy.engine import create_engine\n",
    "from sqlalchemy_utils import create_database, database_exists"
   ]
  },
  {
   "cell_type": "code",
   "execution_count": 134,
   "id": "59295842-5130-4d3a-859e-51def713b712",
   "metadata": {},
   "outputs": [
    {
     "data": {
      "text/html": [
       "<div>\n",
       "<style scoped>\n",
       "    .dataframe tbody tr th:only-of-type {\n",
       "        vertical-align: middle;\n",
       "    }\n",
       "\n",
       "    .dataframe tbody tr th {\n",
       "        vertical-align: top;\n",
       "    }\n",
       "\n",
       "    .dataframe thead th {\n",
       "        text-align: right;\n",
       "    }\n",
       "</style>\n",
       "<table border=\"1\" class=\"dataframe\">\n",
       "  <thead>\n",
       "    <tr style=\"text-align: right;\">\n",
       "      <th></th>\n",
       "      <th>age</th>\n",
       "      <th>sex</th>\n",
       "      <th>bmi</th>\n",
       "      <th>children</th>\n",
       "      <th>smoker</th>\n",
       "      <th>region</th>\n",
       "      <th>charges</th>\n",
       "    </tr>\n",
       "  </thead>\n",
       "  <tbody>\n",
       "    <tr>\n",
       "      <th>0</th>\n",
       "      <td>19</td>\n",
       "      <td>female</td>\n",
       "      <td>27.900</td>\n",
       "      <td>0</td>\n",
       "      <td>yes</td>\n",
       "      <td>southwest</td>\n",
       "      <td>16884.92400</td>\n",
       "    </tr>\n",
       "    <tr>\n",
       "      <th>1</th>\n",
       "      <td>18</td>\n",
       "      <td>male</td>\n",
       "      <td>33.770</td>\n",
       "      <td>1</td>\n",
       "      <td>no</td>\n",
       "      <td>southeast</td>\n",
       "      <td>1725.55230</td>\n",
       "    </tr>\n",
       "    <tr>\n",
       "      <th>2</th>\n",
       "      <td>28</td>\n",
       "      <td>male</td>\n",
       "      <td>33.000</td>\n",
       "      <td>3</td>\n",
       "      <td>no</td>\n",
       "      <td>southeast</td>\n",
       "      <td>4449.46200</td>\n",
       "    </tr>\n",
       "    <tr>\n",
       "      <th>3</th>\n",
       "      <td>33</td>\n",
       "      <td>male</td>\n",
       "      <td>22.705</td>\n",
       "      <td>0</td>\n",
       "      <td>no</td>\n",
       "      <td>northwest</td>\n",
       "      <td>21984.47061</td>\n",
       "    </tr>\n",
       "    <tr>\n",
       "      <th>4</th>\n",
       "      <td>32</td>\n",
       "      <td>male</td>\n",
       "      <td>28.880</td>\n",
       "      <td>0</td>\n",
       "      <td>no</td>\n",
       "      <td>northwest</td>\n",
       "      <td>3866.85520</td>\n",
       "    </tr>\n",
       "  </tbody>\n",
       "</table>\n",
       "</div>"
      ],
      "text/plain": [
       "   age     sex     bmi  children smoker     region      charges\n",
       "0   19  female  27.900         0    yes  southwest  16884.92400\n",
       "1   18    male  33.770         1     no  southeast   1725.55230\n",
       "2   28    male  33.000         3     no  southeast   4449.46200\n",
       "3   33    male  22.705         0     no  northwest  21984.47061\n",
       "4   32    male  28.880         0     no  northwest   3866.85520"
      ]
     },
     "execution_count": 134,
     "metadata": {},
     "output_type": "execute_result"
    }
   ],
   "source": [
    "## Loading json file\n",
    "df = pd.read_csv('insurance - insurance.csv')\n",
    "df.head()"
   ]
  },
  {
   "cell_type": "markdown",
   "id": "1e1bdd80-b39a-438a-ab14-cf503062c01f",
   "metadata": {},
   "source": [
    "### Hypothesis 1"
   ]
  },
  {
   "cell_type": "markdown",
   "id": "4a61568c-d269-4990-9b62-e33f2dc6c50e",
   "metadata": {},
   "source": [
    "State the Hypothesis & Null Hypothesis"
   ]
  },
  {
   "cell_type": "markdown",
   "id": "332afe78-8dae-4369-9bc5-16c09c01d840",
   "metadata": {},
   "source": [
    "\n",
    "- $H_0$ (Null Hypothesis):The smoker have the same charges than non-smokers\n",
    "- $H_A$ (Alternative Hypothesis): The smokers have higher charges than non-smokers"
   ]
  },
  {
   "cell_type": "markdown",
   "id": "10c1c2b6-489b-4cc8-ae90-5bd3ef941b9c",
   "metadata": {},
   "source": [
    "- Choosing test \n",
    "    - **The appropriate test to perform would be:**\n",
    "        - Since we are measuring a numeric quantity (Charges)\n",
    "        - and we are comparing 2 groups(smokers and non-smokers). \n",
    "        - We therefore want to perform a 2-sample t-test, A.K.A. an independent t-test.\n",
    "    \n",
    "- **According the the work flow, the 2-sample T-Test has the following assumptions:** \n",
    "    - No significant outliers\n",
    "    - Normality\n",
    "    - Equal Variance"
   ]
  },
  {
   "cell_type": "markdown",
   "id": "6ee2208c-a577-4f90-8a0f-539b6c84c856",
   "metadata": {},
   "source": [
    "## Getting the Group Data "
   ]
  },
  {
   "cell_type": "markdown",
   "id": "10769286-e025-4aa7-93e7-a20a3d4e37e8",
   "metadata": {},
   "source": [
    "- The next step is to get the data for each group in separate variables. All of the approaches below will lead to the same result: a `has discount` and `no discount` variable."
   ]
  },
  {
   "cell_type": "markdown",
   "id": "ac9a6f72-2f9e-446b-a069-c05373299529",
   "metadata": {},
   "source": [
    "### Data"
   ]
  },
  {
   "cell_type": "code",
   "execution_count": 135,
   "id": "9179aeb3-793b-4997-ae13-780221e437da",
   "metadata": {},
   "outputs": [
    {
     "data": {
      "text/plain": [
       "no     1064\n",
       "yes     274\n",
       "Name: smoker, dtype: int64"
      ]
     },
     "execution_count": 135,
     "metadata": {},
     "output_type": "execute_result"
    }
   ],
   "source": [
    "# see how many with and without strength\n",
    "df['smoker'].value_counts()"
   ]
  },
  {
   "cell_type": "code",
   "execution_count": 136,
   "id": "82b74adf-7e57-4e9b-ab5b-2fe7bb6a2024",
   "metadata": {},
   "outputs": [],
   "source": [
    "# Filtering out those with and without super strength\n",
    "smokers_df = df.loc[df['smoker']== 'yes'].copy()\n",
    "non_smoker_df = df.loc[df['smoker']== 'no'].copy()\n",
    "\n"
   ]
  },
  {
   "cell_type": "code",
   "execution_count": 137,
   "id": "f7f3a828-02bf-4ab1-935f-72aab166d219",
   "metadata": {},
   "outputs": [],
   "source": [
    "smoker = smokers_df['charges']\n",
    "non_smoker = non_smoker_df['charges']"
   ]
  },
  {
   "cell_type": "code",
   "execution_count": 138,
   "id": "769ac486-d771-417f-958a-519078326121",
   "metadata": {},
   "outputs": [
    {
     "data": {
      "image/png": "[encoded data removed]",
      "text/plain": [
       "<Figure size 1000x500 with 2 Axes>"
      ]
     },
     "metadata": {},
     "output_type": "display_data"
    }
   ],
   "source": [
    "palette={'yes':'dodgerblue', 'no':'salmon'}\n",
    "## Visualizing Sample means\n",
    "fig, (ax,ax_bar) = plt.subplots(figsize= (10,5), ncols=2, \n",
    "                                constrained_layout=True,\n",
    "                                gridspec_kw={'width_ratios':[0.8,0.2]})\n",
    "\n",
    "\n",
    "\n",
    "# Histogram\n",
    "ax = sns.histplot(data=df, x='charges',fill='yes',hue='smoker',kde='no',\n",
    "                  stat='density',common_norm=False,ax=ax,\n",
    "                  palette=palette)\n",
    "\n",
    "ax.axvline(np.mean(smoker), ls='--',lw=3, \n",
    "           label=f\"Smokers (Mean={np.mean(smoker):.2f})\",color=palette['yes'])\n",
    "\n",
    "ax.axvline(np.mean(non_smoker), ls='--', lw=3, \n",
    "           label=f\"Non smoker (Mean={np.mean(non_smoker):.2f})\",color=palette['no'])\n",
    "\n",
    "ax.legend(prop={\"size\":14}, loc='upper right')#bbox_to_anchor=[1,1])\n",
    "## Barplot\n",
    "sns.barplot(data=df, x='smoker',y='charges',ax = ax_bar,palette=palette)\n",
    "fig.suptitle('Comparison of Chargers by Smoker',fontsize='xx-large');"
   ]
  },
  {
   "cell_type": "markdown",
   "id": "29888268-38f7-4bd8-9081-6a7c57fcea75",
   "metadata": {},
   "source": [
    "Check for and remove outliers"
   ]
  },
  {
   "cell_type": "code",
   "execution_count": 139,
   "id": "bb062b8d-eaf4-43ba-9b4c-69554219c4bc",
   "metadata": {},
   "outputs": [
    {
     "data": {
      "text/plain": [
       "0"
      ]
     },
     "execution_count": 139,
     "metadata": {},
     "output_type": "execute_result"
    }
   ],
   "source": [
    "# Check for outliers in weight for strength group\n",
    "zscores= stats.zscore(smoker)\n",
    "outliers = abs(zscores)>3\n",
    "np.sum(outliers)\n"
   ]
  },
  {
   "cell_type": "markdown",
   "id": "913e64d3-4886-4a7c-a65e-2a5df3e7e78f",
   "metadata": {},
   "source": [
    "No outliners for smokers"
   ]
  },
  {
   "cell_type": "code",
   "execution_count": 140,
   "id": "4de40966-667f-42d4-b7a2-16ac2e693d1f",
   "metadata": {},
   "outputs": [
    {
     "data": {
      "text/plain": [
       "24"
      ]
     },
     "execution_count": 140,
     "metadata": {},
     "output_type": "execute_result"
    }
   ],
   "source": [
    "# check for outliers in weight for no strength group\n",
    "zscores= stats.zscore(non_smoker)\n",
    "outliers = abs(zscores)>3\n",
    "np.sum(outliers)\n"
   ]
  },
  {
   "cell_type": "markdown",
   "id": "2d7e813a-36b1-4061-a1df-e9e90f8db0a7",
   "metadata": {},
   "source": [
    "We remove outliners for non smokers"
   ]
  },
  {
   "cell_type": "code",
   "execution_count": 141,
   "id": "6157269d-4af0-4903-b92d-c8924dd47476",
   "metadata": {},
   "outputs": [],
   "source": [
    "# remove outliers from strength group\n",
    "non_smoker = non_smoker[(np.abs(stats.zscore(non_smoker)) < 3)]\n"
   ]
  },
  {
   "cell_type": "markdown",
   "id": "4aea61a9-1616-463a-9d04-e76bc97c60f1",
   "metadata": {},
   "source": [
    "Check for Normality"
   ]
  },
  {
   "cell_type": "code",
   "execution_count": 142,
   "id": "03c139d0-8b31-46bc-a9fc-c2ee6c4a3909",
   "metadata": {},
   "outputs": [
    {
     "data": {
      "text/plain": [
       "NormaltestResult(statistic=61.03941356533816, pvalue=5.564930630036463e-14)"
      ]
     },
     "execution_count": 142,
     "metadata": {},
     "output_type": "execute_result"
    }
   ],
   "source": [
    "# test the strength group for normality\n",
    "result_smoker = stats.normaltest(smoker)\n",
    "result_smoker\n"
   ]
  },
  {
   "cell_type": "code",
   "execution_count": 143,
   "id": "d2070a69-d72f-4d5f-b996-3a54741257c4",
   "metadata": {},
   "outputs": [
    {
     "data": {
      "text/plain": [
       "NormaltestResult(statistic=163.80367047789198, pvalue=2.6945416315543976e-36)"
      ]
     },
     "execution_count": 143,
     "metadata": {},
     "output_type": "execute_result"
    }
   ],
   "source": [
    "# test the strength group for normality\n",
    "result_non_smoker = stats.normaltest(non_smoker)\n",
    "result_non_smoker\n"
   ]
  },
  {
   "cell_type": "markdown",
   "id": "d622071d-141a-408a-9876-8bd560a4622a",
   "metadata": {},
   "source": [
    "Check for Equal Variance"
   ]
  },
  {
   "cell_type": "code",
   "execution_count": 144,
   "id": "986aed7b-8cbc-4605-ae63-abdd6e4f1ba7",
   "metadata": {},
   "outputs": [
    {
     "data": {
      "text/plain": [
       "LeveneResult(statistic=520.7468821724297, pvalue=2.4247238784347824e-97)"
      ]
     },
     "execution_count": 144,
     "metadata": {},
     "output_type": "execute_result"
    }
   ],
   "source": [
    "# Test for equal variance\n",
    "result = stats.levene(smoker, non_smoker)\n",
    "result"
   ]
  },
  {
   "cell_type": "markdown",
   "id": "6c2fd52e-0bf1-46f7-86fd-0a09a9973755",
   "metadata": {},
   "source": [
    "Perform and evaluate the t-test"
   ]
  },
  {
   "cell_type": "code",
   "execution_count": 145,
   "id": "060310fc-9a28-4374-b063-3f9e69837c6b",
   "metadata": {},
   "outputs": [
    {
     "data": {
      "text/plain": [
       "Ttest_indResult(statistic=33.732305987092516, pvalue=2.575322662587431e-104)"
      ]
     },
     "execution_count": 145,
     "metadata": {},
     "output_type": "execute_result"
    }
   ],
   "source": [
    "# Independent t-test with equal_var set to False\n",
    "result = stats.ttest_ind(smoker, non_smoker, equal_var = False)\n",
    "result\n",
    "\n"
   ]
  },
  {
   "cell_type": "markdown",
   "id": "8a905c8e-e213-4bd3-bf6e-a7845efe7dde",
   "metadata": {},
   "source": [
    "p<0.05, we then reject the null hypothesis and accept that there is a significant difference between the weights of superheroes who have \"super strength\" and those who do not."
   ]
  },
  {
   "cell_type": "markdown",
   "id": "aef0191f-7ace-4d05-8c51-e17ccbf45c35",
   "metadata": {},
   "source": [
    "### Hypothesis 2"
   ]
  },
  {
   "cell_type": "markdown",
   "id": "dbed1c19-852a-430d-9335-639c41b2558e",
   "metadata": {},
   "source": [
    "State the Hypothesis & Null Hypothesis"
   ]
  },
  {
   "cell_type": "markdown",
   "id": "5d69e86f-8a96-48ef-97f5-a2fc6433be9b",
   "metadata": {},
   "source": [
    "\n",
    "- $H_0$ (Null Hypothesis):There is no slightly difference between men smokers and women smokers\n",
    "- $H_A$ (Alternative Hypothesis): There is slightly difference between men smokers and women smokers"
   ]
  },
  {
   "cell_type": "markdown",
   "id": "f31609d3-c0d8-4208-865d-0303f6278172",
   "metadata": {},
   "source": [
    "- Choosing test \n",
    "    - **The appropriate test to perform would be:**\n",
    "        - Since we are measuring a categorical column (Smoker)\n",
    "        - and we are comparing 2 groups(Males and Females). \n",
    "        - We therefore want to perform a 2-sample t-test, A.K.A. an independent t-test.\n",
    "    \n",
    "- **According the the work flow, the 2-sample T-Test has the following assumptions:** \n",
    "    - No significant outliers\n",
    "    - Normality\n",
    "    - Equal Variance"
   ]
  },
  {
   "cell_type": "code",
   "execution_count": 146,
   "id": "90361af3-0c03-414b-a3bc-2998d7bdd433",
   "metadata": {},
   "outputs": [
    {
     "data": {
      "image/png": "[encoded data removed]",
      "text/plain": [
       "<Figure size 640x480 with 1 Axes>"
      ]
     },
     "metadata": {},
     "output_type": "display_data"
    }
   ],
   "source": [
    "ax = sns.countplot(data=df, x='sex',hue='smoker',)\n",
    "ax.set_title(\"Number of Smoker by Sex\");\n",
    "\n"
   ]
  },
  {
   "cell_type": "code",
   "execution_count": 147,
   "id": "55ea7070-9528-44f2-8945-69ef8916cd57",
   "metadata": {},
   "outputs": [
    {
     "data": {
      "text/html": [
       "<div>\n",
       "<style scoped>\n",
       "    .dataframe tbody tr th:only-of-type {\n",
       "        vertical-align: middle;\n",
       "    }\n",
       "\n",
       "    .dataframe tbody tr th {\n",
       "        vertical-align: top;\n",
       "    }\n",
       "\n",
       "    .dataframe thead th {\n",
       "        text-align: right;\n",
       "    }\n",
       "</style>\n",
       "<table border=\"1\" class=\"dataframe\">\n",
       "  <thead>\n",
       "    <tr style=\"text-align: right;\">\n",
       "      <th>smoker</th>\n",
       "      <th>no</th>\n",
       "      <th>yes</th>\n",
       "    </tr>\n",
       "    <tr>\n",
       "      <th>sex</th>\n",
       "      <th></th>\n",
       "      <th></th>\n",
       "    </tr>\n",
       "  </thead>\n",
       "  <tbody>\n",
       "    <tr>\n",
       "      <th>female</th>\n",
       "      <td>547</td>\n",
       "      <td>115</td>\n",
       "    </tr>\n",
       "    <tr>\n",
       "      <th>male</th>\n",
       "      <td>517</td>\n",
       "      <td>159</td>\n",
       "    </tr>\n",
       "  </tbody>\n",
       "</table>\n",
       "</div>"
      ],
      "text/plain": [
       "smoker   no  yes\n",
       "sex             \n",
       "female  547  115\n",
       "male    517  159"
      ]
     },
     "execution_count": 147,
     "metadata": {},
     "output_type": "execute_result"
    }
   ],
   "source": [
    "# calculate the contingency table with pd.cross-tab\n",
    "table = pd.crosstab(df['sex'], df['smoker'])\n",
    "table\n",
    "\n"
   ]
  },
  {
   "cell_type": "code",
   "execution_count": 148,
   "id": "43a14b28-6b05-43a9-94ba-0936914724cc",
   "metadata": {},
   "outputs": [],
   "source": [
    "# Run the Test and Save the Output\n",
    "result = stats.chi2_contingency(table)\n",
    "chi2, p, deg_free, expected_vals = result #this labels the results\n",
    "\n"
   ]
  },
  {
   "cell_type": "code",
   "execution_count": 149,
   "id": "1eeabf73-9fa1-4ea4-a620-fc023d844a1b",
   "metadata": {},
   "outputs": [
    {
     "name": "stdout",
     "output_type": "stream",
     "text": [
      "0.006548143503580696\n"
     ]
    },
    {
     "data": {
      "text/plain": [
       "True"
      ]
     },
     "execution_count": 149,
     "metadata": {},
     "output_type": "execute_result"
    }
   ],
   "source": [
    "# What was our p-value?\n",
    "print(p)\n",
    "p<.05\n",
    "\n"
   ]
  },
  {
   "cell_type": "markdown",
   "id": "09d05efc-bd6b-4c78-98ff-47894db0aeff",
   "metadata": {},
   "source": [
    "p<0.05, we then reject the null hypothesis and accept there is slightly difference between men smokers and women smokers"
   ]
  },
  {
   "cell_type": "markdown",
   "id": "77a33f24-8708-4e32-a4b6-7fe4de1c7716",
   "metadata": {},
   "source": [
    "### Hypothesis 3"
   ]
  },
  {
   "cell_type": "markdown",
   "id": "16b600dc-3074-40b9-b132-a5b98217128e",
   "metadata": {},
   "source": [
    "State the Hypothesis & Null Hypothesis"
   ]
  },
  {
   "cell_type": "markdown",
   "id": "2c34c47a-e6cb-4792-9501-0b6b5a1af4fc",
   "metadata": {},
   "source": [
    "\n",
    "- $H_0$ (Null Hypothesis):Different region all have the same charges\n",
    "- $H_A$ (Alternative Hypothesis): :Different region have the different charges"
   ]
  },
  {
   "cell_type": "code",
   "execution_count": 150,
   "id": "a3c07730-4b06-4a7d-a04b-014968c8faa5",
   "metadata": {},
   "outputs": [
    {
     "ename": "SyntaxError",
     "evalue": "invalid syntax (3962177191.py, line 1)",
     "output_type": "error",
     "traceback": [
      "\u001b[1;36m  Cell \u001b[1;32mIn[150], line 1\u001b[1;36m\u001b[0m\n\u001b[1;33m    - Choosing test\u001b[0m\n\u001b[1;37m               ^\u001b[0m\n\u001b[1;31mSyntaxError\u001b[0m\u001b[1;31m:\u001b[0m invalid syntax\n"
     ]
    }
   ],
   "source": [
    "- Choosing test \n",
    "    - **The appropriate test to perform would be:**\n",
    "        - Since we are measuring a numeric quantity (Charges)\n",
    "        - and we are comparing more than 2 groups. \n",
    "        - We therefore want to perform a Anova test.\n",
    "    \n",
    "- **According the the work flow, the anova test has the following assumptions:** \n",
    "    - No significant outliers\n",
    "    - Normality\n",
    "    - Equal Variance"
   ]
  },
  {
   "cell_type": "code",
   "execution_count": null,
   "id": "2ce71058-3b69-4600-ba1e-aec12ca6d558",
   "metadata": {},
   "outputs": [],
   "source": [
    "ax = sns.barplot(data=df, x='region', y='charges')\n",
    "ax.set_xticklabels(ax.get_xticklabels(), rotation=45, ha='right');"
   ]
  },
  {
   "cell_type": "code",
   "execution_count": null,
   "id": "8d5c4333-e15e-477e-8872-9b9366edf248",
   "metadata": {},
   "outputs": [],
   "source": [
    "needed_cols = ['region','charges']\n",
    "df[needed_cols]"
   ]
  },
  {
   "cell_type": "code",
   "execution_count": null,
   "id": "ff139ace-e8be-461e-9cc3-a6ac37dec1e8",
   "metadata": {},
   "outputs": [],
   "source": [
    "## Create a dictionary with each group as key and funded_amount as values\n",
    "groups ={}\n",
    "\n",
    "for region in df['region'].unique():\n",
    "    temp = df.loc[df['region']== region, 'charges']\n",
    "    groups[region] = temp\n",
    "\n",
    "groups.keys()\n",
    "\n"
   ]
  },
  {
   "cell_type": "markdown",
   "id": "97d6d234-a9bd-4640-9614-819cc27be0b6",
   "metadata": {},
   "source": [
    "## Testing assumptions"
   ]
  },
  {
   "cell_type": "code",
   "execution_count": null,
   "id": "43166972-3a23-4e13-a3c3-d376a927324d",
   "metadata": {},
   "outputs": [],
   "source": [
    "## Loop through groups dict\n",
    "for region, data in groups.items():\n",
    "\n",
    "    ## determine if there are any outliers\n",
    "    outliers = np.abs(stats.zscore(data)) > 3\n",
    "    \n",
    "    ## print a statement about how many outliers for which group name\n",
    "    print(f\"There were {outliers.sum()} outliers in the {region} group.\")\n",
    "\n",
    "    ## Remove the outiers from data and overwrite the sector data in the dict\n",
    "    data = data.loc[~outliers]\n",
    "    groups[region] = data\n"
   ]
  },
  {
   "cell_type": "code",
   "execution_count": null,
   "id": "cb142843-5528-4fb2-83b2-0f084417d56d",
   "metadata": {},
   "outputs": [],
   "source": [
    "## Running normal test on each group and confirming there are >20 in each group\n",
    "norm_results = {}\n",
    "for region, data in groups.items():\n",
    "    stat, p = stats.normaltest(data)\n",
    "    ## save the p val, test statistic, and the size of the group\n",
    "    norm_results[region] = {'n': len(data),\n",
    "                             'p':p,\n",
    "                             'test stat':stat,}\n",
    "## convert to a dataframe\n",
    "norm_results_df = pd.DataFrame(norm_results).T\n",
    "norm_results_df\n"
   ]
  },
  {
   "cell_type": "code",
   "execution_count": null,
   "id": "28723395-d1b4-490e-b85a-7deb0adb6db6",
   "metadata": {},
   "outputs": [],
   "source": [
    "### checking sig with pandas \n",
    "norm_results_df['sig'] = norm_results_df['p'] < .05 \n",
    "norm_results_df\n",
    "\n"
   ]
  },
  {
   "cell_type": "code",
   "execution_count": null,
   "id": "074268ee-fa55-49d5-8d21-86e950f8a2f6",
   "metadata": {},
   "outputs": [],
   "source": [
    "# with the * operator \n",
    "stats.levene(*groups.values())\n"
   ]
  },
  {
   "cell_type": "code",
   "execution_count": null,
   "id": "fe03518d-5100-4d30-9c88-e8d49f2b1e11",
   "metadata": {},
   "outputs": [],
   "source": [
    "## Use an if-else to help interpret the p-value\n",
    "if result.pvalue < .05:\n",
    "    print(f\"The groups do NOT have equal variance.\")\n",
    "else:\n",
    "    print(f\"The groups DO have equal variance.\")"
   ]
  },
  {
   "cell_type": "code",
   "execution_count": null,
   "id": "b64b3cf7-51dc-4211-8a42-ffc57755c2e0",
   "metadata": {},
   "outputs": [],
   "source": [
    "## Running Krukal Test for Original Hypothesis\n",
    "result = stats.kruskal(*groups.values())\n",
    "print(result)\n",
    "result.pvalue<.05"
   ]
  },
  {
   "cell_type": "code",
   "execution_count": null,
   "id": "e743c9b7-f3e3-4baa-a9fa-a2e94dfb263e",
   "metadata": {},
   "outputs": [],
   "source": [
    "## make a list for saving the dataframes to\n",
    "tukeys_dfs = []\n",
    "\n",
    "## Loop through groups dict's items\n",
    "for region, temp in groups.items():\n",
    "    \n",
    "    ## make a temp_df with the data and the sector name\n",
    "    temp_df = pd.DataFrame({'charges':temp, 'region':region})\n",
    "    \n",
    "    ## append to tukeys_dfs\n",
    "    tukeys_dfs.append(temp_df)\n",
    "    \n",
    "## concatenate them into 1 dataframe    \n",
    "tukeys_data = pd.concat(tukeys_dfs)\n",
    "tukeys_data"
   ]
  },
  {
   "cell_type": "code",
   "execution_count": null,
   "id": "0ff8e092-882f-4fbb-b079-4ce8eebb8205",
   "metadata": {},
   "outputs": [],
   "source": [
    "## save the values as kg_lost and the labels to the Diet\n",
    "values = tukeys_data['charges']\n",
    "labels = tukeys_data['region']\n",
    "\n",
    "## perform tukey's multiple comparison test and display the summary\n",
    "tukeys_results = pairwise_tukeyhsd(values,labels)\n",
    "tukeys_results.summary()"
   ]
  },
  {
   "cell_type": "code",
   "execution_count": null,
   "id": "e6b56a49-b48d-4176-9de0-c0e64a615021",
   "metadata": {},
   "outputs": [],
   "source": [
    "## optional -slicing out dataframe from results\n",
    "summary = tukeys_results.summary()\n",
    "tukeys_df = pd.DataFrame(summary.data[1:], columns=summary.data[0])\n",
    "tukeys_df"
   ]
  },
  {
   "cell_type": "code",
   "execution_count": null,
   "id": "a7115b81-0e87-405c-8f6a-7766872bc7c3",
   "metadata": {},
   "outputs": [],
   "source": [
    "## make a barplot of final data to go with results\n",
    "ax = sns.barplot(data=tukeys_data, x='region', y='charges', ci=68)\n",
    "ax.set_xticklabels(ax.get_xticklabels(), rotation='45', ha='right');"
   ]
  },
  {
   "cell_type": "code",
   "execution_count": null,
   "id": "57db00f8-9d72-4420-b004-fd8aa00c6756",
   "metadata": {},
   "outputs": [],
   "source": [
    "## Not significantly different\n",
    "tukeys_df[tukeys_df['reject'] ==False]"
   ]
  },
  {
   "cell_type": "markdown",
   "id": "b7185d5f-9f26-4a2c-acaf-f71d61c7aabe",
   "metadata": {},
   "source": [
    "We can see in the summary above that there are 4 no significant results.  "
   ]
  },
  {
   "cell_type": "code",
   "execution_count": null,
   "id": "6819fab1-8e55-43b0-904d-f8ebfc788dc8",
   "metadata": {},
   "outputs": [],
   "source": [
    "## Significantly different\n",
    "tukeys_df[tukeys_df['reject'] ==True]"
   ]
  },
  {
   "cell_type": "markdown",
   "id": "3d1cc198-f6d7-49f2-9860-89bcfe2139b4",
   "metadata": {},
   "source": [
    "We can see in the summary above that there are 2 no significant results.  \n",
    "\n",
    "You can see in the summary above that there are 2 significant results.  We see that there is a significant difference in charges between region northwest and southeast and between regions southeast and southweast. "
   ]
  },
  {
   "cell_type": "code",
   "execution_count": null,
   "id": "17aaa5e7-ad4e-4882-babd-064a4eac6f79",
   "metadata": {},
   "outputs": [],
   "source": []
  }
 ],
 "metadata": {
  "kernelspec": {
   "display_name": "Python 3 (ipykernel)",
   "language": "python",
   "name": "python3"
  },
  "language_info": {
   "codemirror_mode": {
    "name": "ipython",
    "version": 3
   },
   "file_extension": ".py",
   "mimetype": "text/x-python",
   "name": "python",
   "nbconvert_exporter": "python",
   "pygments_lexer": "ipython3",
   "version": "3.10.10"
  }
 },
 "nbformat": 4,
 "nbformat_minor": 5
}
